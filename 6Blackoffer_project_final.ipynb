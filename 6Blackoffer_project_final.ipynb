{
  "nbformat": 4,
  "nbformat_minor": 0,
  "metadata": {
    "colab": {
      "provenance": []
    },
    "kernelspec": {
      "name": "python3",
      "display_name": "Python 3"
    },
    "language_info": {
      "name": "python"
    }
  },
  "cells": [
    {
      "cell_type": "markdown",
      "source": [
        "**Itrate each links to do textual analysis**"
      ],
      "metadata": {
        "id": "ZjhiHILI_wOS"
      }
    },
    {
      "cell_type": "code",
      "execution_count": 56,
      "metadata": {
        "colab": {
          "base_uri": "https://localhost:8080/"
        },
        "id": "w1CUzkiWl8Wz",
        "outputId": "d9cf33c1-4b68-46fa-b585-96b5ff4a7b28"
      },
      "outputs": [
        {
          "output_type": "stream",
          "name": "stdout",
          "text": [
            "row number = 0\n"
          ]
        }
      ],
      "source": [
        "#Finding the row of corresponding link\n",
        "import pandas as pd\n",
        "\n",
        "#url to be mined\n",
        "url='https://insights.blackcoffer.com/rising-it-cities-and-its-impact-on-the-economy-environment-infrastructure-and-city-life-by-the-year-2040-2/'\n",
        "\n",
        "input_file_path = '/content/Input.csv'\n",
        "input = pd.read_csv(input_file_path)\n",
        "\n",
        "output_file_path=\"/content/Output Data Structure.csv\"\n",
        "output=pd.read_csv(output_file_path)\n",
        "\n",
        "\n",
        "input=input.dropna()\n",
        "urls=input.URL\n",
        "rnum=-1\n",
        "for i in urls:\n",
        "  rnum+=1\n",
        "  if i == url:\n",
        "\n",
        "    break\n",
        "print(\"row number =\",rnum)\n",
        "\n",
        "\n"
      ]
    },
    {
      "cell_type": "markdown",
      "source": [
        "# ***Extracting article headline and content***"
      ],
      "metadata": {
        "id": "EISAQJ5f-ZE3"
      }
    },
    {
      "cell_type": "code",
      "source": [
        "import requests\n",
        "from bs4 import BeautifulSoup\n",
        "\n",
        "def extract(url):\n",
        "\n",
        "  response=requests.get(url)\n",
        "  if response.status_code==200:\n",
        "    soup=BeautifulSoup(response.text,'html.parser')\n",
        "\n",
        "    headline=soup.find('h1').get_text() if soup.find('h1') else None\n",
        "\n",
        "    text=soup.find('div',class_='td-post-content tagdiv-type').get_text() if soup.find('div',class_='td-post-content tagdiv-type') else None\n",
        "\n",
        "    if text==None:\n",
        "      article_content_elements = soup.find_all('div', class_='tdb-block-inner td-fix-index')\n",
        "\n",
        "       # Initialize an empty string to store the extracted text\n",
        "      text = ''\n",
        "\n",
        "        # Concatenate the text content of each element found\n",
        "      for element in article_content_elements:\n",
        "            text += element.get_text(separator='\\n')\n",
        "\n",
        "\n",
        "    return headline,text\n",
        "\n",
        "\n",
        "\n",
        "headline,article_text=extract(url)\n",
        "\n",
        "\n",
        "# text with headline and content\n",
        "text_content = headline + article_text\n",
        "\n",
        "print(text_content)\n",
        "\n",
        "\n"
      ],
      "metadata": {
        "id": "BP12UlwPKjTM",
        "colab": {
          "base_uri": "https://localhost:8080/"
        },
        "outputId": "f1a663af-056f-4396-be87-12c7a5941f00"
      },
      "execution_count": 41,
      "outputs": [
        {
          "output_type": "stream",
          "name": "stdout",
          "text": [
            "Rising IT cities and its impact on the economy, environment, infrastructure, and city life by the year 2040.\n",
            "We have seen a huge development and dependence of people on technology in recent years. We have also seen the development of AI and ChatGPT in recent years. So it is a normal thing that we will become fully dependent on technology by 2040. Information technology will be a major power for all the developing nations. As a member of a developing nation, India is rapidly growing its IT base. It has also grown some IT cities which will be the major control centres for Information technology by 2040.\n",
            "Rising IT cities\n",
            "\n",
            "Noida:- Noida in Uttar Pradesh near New Delhi is an emerging IT sector now. Many large companies like Google, Microsoft, IBM, Infosys and others have set up their companies here. Noida has a market base of billions of dollars and is doing a great job of boosting the national economy. The establishment of so many software companies has made Noida an information technology hub.\n",
            "Gurgaon:- Gurgaon in Haryana is also an emerging IT hub. Many large companies like Google, Microsoft, IBM, Infosys and others have set up their companies here. Gurgaon has a market base of billions of dollars and is doing a great job of boosting the national economy.\n",
            "Bengaluru:- Bengaluru is called as the IT hub of India. It is also a smart city. Many large companies like Google, Microsoft, IBM, Infosys and others have set up their companies here. Bengaluru has a market base of billions of dollars and is doing a great job of boosting the national economy.\n",
            "\n",
            "Kolkata:- Kolkata in West Bengal is an emerging major IT hub. The new Kolkata i.e. Saltlake Sector  5, New town, Rajarhat area of Kolkata is a major IT hub. The government is giving the software companies land at almost free of cost to set up the companies there. Many large companies like Google, Microsoft, IBM, Infosys and others have set up their companies here. Kolkata has a market base of billions of dollars and is doing a great job of boosting the national economy.\n",
            "Impact on Economy\n",
            "There is a huge impact of the rising IT cities on our economy. Some of the effects are-\n",
            "\n",
            "Demand:- The rising IT cities will greatly help to boost our economy. These will create a huge demand for raw materials. The products when ready will be a huge demand for the people too.\n",
            "Supply:-– Supply means the fulfilment of demand. In a large and highly populous country like India, there is always a demand for finished products. If more IT cities do not develop, the companies cannot fulfil the needs and desires of the people of a populous country like India. As IT cities develop, more IT companies will come, which will supply more and more finished IT products to our people.\n",
            "Market: A market is a place where different economic agents like buyers and sellers interact with one another. In a populous country like India, there is a huge market. As IT cities will grow, more and more IT companies will come from across the world and more will the competition in the market increase. This will help consumers as they will get more and more differentiated products and the market will also run smoothly. A competitive market is always good and healthy. We can safely assume that our oligopoly market will surely tend to reach a perfectly competitive market by the year 2040.\n",
            "Revenue:- As the market increases, more revenue will be generated. Now at present, the IT revenue of India is 245 million dollars, 19 million dollars more than the financial year 2022. If IT cities grow, then more companies will invest which leads to an increase in the IT market which in turn generates more revenue in India. We can expect that the IT revenue of India will cross or nearly tend to reach 10 billion dollars by 2040.\n",
            "\n",
            "Impact on Environment\n",
            "The rising IT cities will create a huge impact on the environment, the maximum of which will be harmful effects. The impact of rising IT cities on the environment is-\n",
            "\n",
            "Deforestation:- There will be cutting of trees in huge numbers to make the building of the IT companies which will cause great harm to the environment. The cutting of trees on a large scale will also cause mass degradation of forests.\n",
            "More carbon footprint:- The IT companies will generate more carbon footprint in the atmosphere. South Asian countries including India are known for their lower carbon footprint. But if the IT sector grows this way then we will also be at the same pace of generation of carbon footprint by 2040.\n",
            "Death of birds:- The cell phone and mobile towers by the telecom companies caused the death of birds which caused a great imbalance in the ecosystem. The number of sparrows has been reduced due to this phenomenon. If this goes on we can see the extinction of many bird species by 2040.\n",
            "\n",
            "Impact on infrastructure\n",
            "There are many contributions of the IT cities on infrastructure.  They are-\n",
            "\n",
            "Transportation:- The rising IT cities need an excellent transport system for the supply of raw materials and delivery of the finished products into the market. So the transportation system develops in that area. So we have an excellent transport system by 2040.\n",
            "Need for a public transport system:- There is a need for a public transport system in the IT cities. As the IT cities are a source of employment and a huge population reside in these areas, there is an adequate need for public transport systems like buses, taxis etc. We hope that it will be improved by 2040.\n",
            "Water supply:- As a huge number of people reside in the IT cities there is a need for adequate water supply to fulfil the needs of people as well as for industries. This will help us to find many new methods of water supply and conservation by 2040.\n",
            "Electricity:- Electric supply is the lifeline of the sector. Without an electric supply, no machines will run and not even the IT cities will flourish. If the IT cities flourish this way, we going to have an excellent electric supply by 2040.\n",
            "Healthcare:- As a large number of people reside in IT cities, there is a need for proper health infrastructure and healthcare facilities for the people. So with the growth of IT cities, our healthcare system will also improve by 2040.\n",
            "Education:- Education is the primary key or core of any nation. There must be proper education and training centres in those IT cities to fulfil the people’s demands.  So with the growth of IT cities, the education system will also develop by 2040. Our education is also going to be skill-oriented.\n",
            "\n",
            "Impact on city life\n",
            "With the growth of IT cities, more people will get jobs and will earn more. So the purchasing power of the people will increase. People will lead a better lifestyle. They will buy things of good brand value. The tastes and preferences of people will also change. The human development index is going to increase. People will buy good quality food and good quality cars. So the food, automobile and many other industries are going to increase. So there will be a huge impact on city life by 2040.\n",
            "Blackcoffer Insights 47: Arka Mukhopadhyay, West Bengal University Of Animal And Fishery Sciences \n",
            "\n"
          ]
        }
      ]
    },
    {
      "cell_type": "code",
      "source": [
        "#Average Sentence Length\n",
        "words=text_content.split()\n",
        "word_count=0\n",
        "for i in words:\n",
        "\n",
        "  word_count+=1\n",
        "\n",
        "sentence_count=0\n",
        "sentence= text_content.split('.')\n",
        "for i in sentence:\n",
        "\n",
        "  sentence_count+=1\n",
        "\n",
        "average_sentence_length = word_count/sentence_count\n",
        "print(\"...............................................\")\n",
        "print(\"Average Sentence Length = \",average_sentence_length)\n",
        "print(\"...............................................\")\n",
        "output.loc[rnum,'AVG SENTENCE LENGTH']=average_sentence_length\n",
        "\n",
        "\n",
        "#removing punctuations\n",
        "import nltk\n",
        "from nltk.corpus import stopwords\n",
        "from nltk.tokenize import word_tokenize\n",
        "\n",
        "nltk.download('stopwords')\n",
        "nltk.download('punkt')\n",
        "\n",
        "\n",
        "# Tokenize the text into words\n",
        "words = word_tokenize(text_content)\n",
        "\n",
        "punctuation = ['?','!',',','.',':','-']\n",
        "\n",
        "filtered_words=[word for word in words if word.lower() not in punctuation]\n",
        "text_content=' '.join(filtered_words)"
      ],
      "metadata": {
        "colab": {
          "base_uri": "https://localhost:8080/"
        },
        "id": "z6z9HyK3BiXD",
        "outputId": "1ea936ea-a40f-4fcb-dab7-824acca8c821"
      },
      "execution_count": 42,
      "outputs": [
        {
          "output_type": "stream",
          "name": "stdout",
          "text": [
            "...............................................\n",
            "Average Sentence Length =  15.4875\n",
            "...............................................\n"
          ]
        },
        {
          "output_type": "stream",
          "name": "stderr",
          "text": [
            "[nltk_data] Downloading package stopwords to /root/nltk_data...\n",
            "[nltk_data]   Package stopwords is already up-to-date!\n",
            "[nltk_data] Downloading package punkt to /root/nltk_data...\n",
            "[nltk_data]   Package punkt is already up-to-date!\n"
          ]
        }
      ]
    },
    {
      "cell_type": "markdown",
      "source": [
        "# ***Data Cleaning***"
      ],
      "metadata": {
        "id": "JCDfn_nMWoLw"
      }
    },
    {
      "cell_type": "code",
      "source": [
        "#data cleaning\n",
        "stopwords_currencies = '/content/StopWords_Currencies.txt'\n",
        "\n",
        "# Open the file in read mode\n",
        "with open(stopwords_currencies, 'r', encoding='latin-1') as file:\n",
        "    # Read the content of the file\n",
        "    stopwords_currencies = file.read()\n",
        "stopwords_currencies=stopwords_currencies.split(\"\\n\")\n",
        "\n",
        "for i in stopwords_currencies:\n",
        "  if i in text_content:\n",
        "    text_content = text_content.replace(i, '')\n",
        "\n",
        "stopwords_auditor = '/content/StopWords_Auditor.txt'\n",
        "\n",
        "# Open the file in read mode\n",
        "with open(stopwords_auditor, 'r', encoding='latin-1') as file:\n",
        "    # Read the content of the file\n",
        "    stopwords_auditor = file.read()\n",
        "stopwords_auditor=stopwords_auditor.split(\"\\n\")\n",
        "\n",
        "for i in stopwords_auditor:\n",
        "  if i in text_content:\n",
        "    text_content = text_content.replace(i, '')\n",
        "\n",
        "print (text_content)"
      ],
      "metadata": {
        "colab": {
          "base_uri": "https://localhost:8080/"
        },
        "id": "4T-9T6a2Wr0E",
        "outputId": "d6fa77ba-83d9-4f2b-97f8-ba4f7e160aa0"
      },
      "execution_count": 43,
      "outputs": [
        {
          "output_type": "stream",
          "name": "stdout",
          "text": [
            "Rising IT cities and its impact on the economy environment infrastructure and city life by the year 2040 We have seen a huge development and dependence of people on technology in recent years We have also seen the development of AI and ChatGPT in recent years So it is a normal thing that we will become fully dependent on technology by 2040 Information technology will be a major power for all the developing nations As a member of a developing nation India is rapidly growing its IT base It has also grown some IT cities which will be the major control centres for Information technology by 2040 Rising IT cities Noida Noida in Uttar Pradesh near New Delhi is an emerging IT sector now Many large companies like Google Microsoft IBM Infosys and others have set up their companies here Noida has a market base of billions of dollars and is doing a great job of boosting the national economy The establishment of so many software companies has made Noida an information technology hub Gurgaon Gurgaon in Haryana is also an emerging IT hub Many large companies like Google Microsoft IBM Infosys and others have set up their companies here Gurgaon has a market base of billions of dollars and is doing a great job of boosting the national economy Bengaluru Bengaluru is called as the IT hub of India It is also a smart city Many large companies like Google Microsoft IBM Infosys and others have set up their companies here Bengaluru has a market base of billions of dollars and is doing a great job of boosting the national economy Kolkata Kolkata in West Bengal is an emerging major IT hub The new Kolkata i.e Saltlake Sector 5 New town Rajarhat area of Kolkata is a major IT hub The government is giving the software companies land at almost free of cost to set up the companies there Many large companies like Google Microsoft IBM Infosys and others have set up their companies here Kolkata has a market base of billions of dollars and is doing a great job of boosting the national economy Impact on Economy There is a huge impact of the rising IT cities on our economy Some of the effects are- Demand The rising IT cities will greatly help to boost our economy These will create a huge demand for raw materials The products when ready will be a huge demand for the people too Supply -– Supply means the fulfilment of demand In a large and highly populous country like India there is always a demand for finished products If more IT cities do not develop the companies can not fulfil the needs and desires of the people of a populous country like India As IT cities develop more IT companies will come which will supply more and more finished IT products to our people Market A market is a place where different economic agents like buyers and sellers interact with one another In a populous country like India there is a huge market As IT cities will grow more and more IT companies will come from across the world and more will the competition in the market increase This will help consumers as they will get more and more differentiated products and the market will also run smoothly A competitive market is always good and healthy We can safely assume that our oligopoly market will surely tend to reach a perfectly competitive market by the year 2040 Revenue As the market increases more revenue will be generated Now at present the IT revenue of India is 245 million dollars 19 million dollars more than the financial year 2022 If IT cities grow then more companies will invest which leads to an increase in the IT market which in turn generates more revenue in India We can expect that the IT revenue of India will cross or nearly tend to reach 10 billion dollars by 2040 Impact on Environment The rising IT cities will create a huge impact on the environment the maximum of which will be harmful effects The impact of rising IT cities on the environment is- Deforestation There will be cutting of trees in huge numbers to make the building of the IT companies which will cause great harm to the environment The cutting of trees on a large scale will also cause mass degradation of forests More carbon footprint The IT companies will generate more carbon footprint in the atmosphere South Asian countries including India are known for their lower carbon footprint But if the IT sector grows this way then we will also be at the same pace of generation of carbon footprint by 2040 Death of birds The cell phone and mobile towers by the telecom companies caused the death of birds which caused a great imbalance in the ecosystem The number of sparrows has been reduced due to this phenomenon If this goes on we can see the extinction of many bird species by 2040 Impact on infrastructure There are many contributions of the IT cities on infrastructure They are- Transportation The rising IT cities need an excellent transport system for the supply of raw materials and delivery of the finished products into the market So the transportation system develops in that area So we have an excellent transport system by 2040 Need for a public transport system There is a need for a public transport system in the IT cities As the IT cities are a source of employment and a huge population reside in these areas there is an adequate need for public transport systems like buses taxis etc We hope that it will be improved by 2040 Water supply As a huge number of people reside in the IT cities there is a need for adequate water supply to fulfil the needs of people as well as for industries This will help us to find many new methods of water supply and conservation by 2040 Electricity Electric supply is the lifeline of the sector Without an electric supply no machines will run and not even the IT cities will flourish If the IT cities flourish this way we going to have an excellent electric supply by 2040 Healthcare As a large number of people reside in IT cities there is a need for proper health infrastructure and healthcare facilities for the people So with the growth of IT cities our healthcare system will also improve by 2040 Education Education is the primary key or core of any nation There must be proper education and training centres in those IT cities to fulfil the people ’ s demands So with the growth of IT cities the education system will also develop by 2040 Our education is also going to be skill-oriented Impact on city life With the growth of IT cities more people will get jobs and will earn more So the purchasing power of the people will increase People will lead a better lifestyle They will buy things of good brand value The tastes and preferences of people will also change The human development index is going to increase People will buy good quality food and good quality cars So the food automobile and many other industries are going to increase So there will be a huge impact on city life by 2040 Blackcoffer Insights 47 Arka Mukhopadhyay West Bengal University Of Animal And Fishery Sciences\n"
          ]
        }
      ]
    },
    {
      "cell_type": "markdown",
      "source": [
        "# ***Finding the variables***"
      ],
      "metadata": {
        "id": "rNaAuECAApIN"
      }
    },
    {
      "cell_type": "code",
      "source": [
        "#positive Score\n",
        "\n",
        "positive_score=0\n",
        "\n",
        "positive_words=\"/content/positive-words.txt\"\n",
        "\n",
        "#opening text file saved in notepad\n",
        "with open(positive_words,'r',encoding='utf-8') as file:\n",
        "  positive_words=file.read()\n",
        "\n",
        "words = text_content.split()\n",
        "\n",
        "# Print each word\n",
        "for i in words:\n",
        "\n",
        "      if i in positive_words:\n",
        "        positive_score +=1\n",
        "print(\"positive Score = \",positive_score)\n",
        "output.loc[rnum,'POSITIVE SCORE']=positive_score\n"
      ],
      "metadata": {
        "colab": {
          "base_uri": "https://localhost:8080/"
        },
        "id": "l6FPlSdCI7aX",
        "outputId": "fa163b3c-1047-4abd-dbbd-f49d1417b30b"
      },
      "execution_count": 44,
      "outputs": [
        {
          "output_type": "stream",
          "name": "stdout",
          "text": [
            "positive Score =  535\n"
          ]
        }
      ]
    },
    {
      "cell_type": "code",
      "source": [
        "# Negative Score\n",
        "\n",
        "negative_score=0\n",
        "\n",
        "negative_words=\"/content/negative-words.txt\"\n",
        "\n",
        "#opening text file saved in notepad\n",
        "with open(negative_words,'r',encoding='latin-1') as file:\n",
        "  negative_words=file.read()\n",
        "\n",
        "words = text_content.split()\n",
        "\n",
        "# Print each word\n",
        "for i in words:\n",
        "\n",
        "      if i in negative_words:\n",
        "        negative_score +=1\n",
        "\n",
        "print(\"Negative Score = \",negative_score)\n",
        "output.loc[rnum,'NEGATIVE SCORE']=negative_score"
      ],
      "metadata": {
        "id": "B57DcSjlA-KT",
        "colab": {
          "base_uri": "https://localhost:8080/"
        },
        "outputId": "f8c4ebcf-9950-415d-d658-3101c852be05"
      },
      "execution_count": 45,
      "outputs": [
        {
          "output_type": "stream",
          "name": "stdout",
          "text": [
            "Negative Score =  598\n"
          ]
        }
      ]
    },
    {
      "cell_type": "code",
      "source": [
        "#Polarity Score\n",
        "polarity_score = (positive_score-negative_score)/((positive_score+negative_score)+0.000001)\n",
        "print(\"Polarity Score = \",polarity_score)\n",
        "output.loc[rnum,'POLARITY SCORE']=polarity_score"
      ],
      "metadata": {
        "colab": {
          "base_uri": "https://localhost:8080/"
        },
        "id": "m8N67DAsMdt7",
        "outputId": "fd49fba5-f199-4673-ec01-8217fb974e5b"
      },
      "execution_count": 46,
      "outputs": [
        {
          "output_type": "stream",
          "name": "stdout",
          "text": [
            "Polarity Score =  -0.055604589536094796\n"
          ]
        }
      ]
    },
    {
      "cell_type": "code",
      "source": [
        "#Subjectivity Score = (Positive Score + Negative Score)/ ((Total Words after cleaning) + 0.000001)\n",
        "\n",
        "#counting no of words after cleaning\n",
        "word_count=0\n",
        "for i in words:\n",
        "\n",
        "  word_count+=1\n",
        "print(\"word count = \" , word_count)\n",
        "\n",
        "#print subjectivity score\n",
        "\n",
        "Subjectivity_Score = (positive_score+negative_score)/ ((word_count) + 0.000001)\n",
        "\n",
        "print(\"Subjectivity_Score = \",Subjectivity_Score)\n",
        "output.loc[rnum,'SUBJECTIVITY SCORE']=Subjectivity_Score"
      ],
      "metadata": {
        "colab": {
          "base_uri": "https://localhost:8080/"
        },
        "id": "_1VwkUTMM5ZW",
        "outputId": "89a33ea9-f25f-4271-d921-37688d5d949c"
      },
      "execution_count": 47,
      "outputs": [
        {
          "output_type": "stream",
          "name": "stdout",
          "text": [
            "word count =  1243\n",
            "Subjectivity_Score =  0.911504424045451\n"
          ]
        }
      ]
    },
    {
      "cell_type": "code",
      "source": [
        "\n",
        "\n",
        "#Percentage of Complex words = the number of complex words / the number of words\n",
        "\n",
        "complex_word_count=0\n",
        "vowel=['a','e','i','o','u','A','E','I','O','U']\n",
        "for i in words :\n",
        "\n",
        "  syllable_count=0\n",
        "  if i.endswith(\"es\")or i.endswith(\"ed\"):\n",
        "    continue\n",
        "  else :\n",
        "    #checking how many vowels  in a word and incrementing the syllable count\n",
        "    for j in i:\n",
        "      if j in vowel:\n",
        "        syllable_count += 1\n",
        "    if syllable_count>2 :\n",
        "\n",
        "      complex_word_count+=1\n",
        "percentage_of_complex_words=complex_word_count/word_count\n",
        "print(\"percentage_of_complex_words = \",percentage_of_complex_words)\n",
        "output.loc[rnum,'PERCENTAGE OF COMPLEX WORDS']=percentage_of_complex_words\n"
      ],
      "metadata": {
        "colab": {
          "base_uri": "https://localhost:8080/"
        },
        "id": "liJgBKVqlb_N",
        "outputId": "9126f815-4d79-4bb2-f31d-128989f0de83"
      },
      "execution_count": 48,
      "outputs": [
        {
          "output_type": "stream",
          "name": "stdout",
          "text": [
            "percentage_of_complex_words =  0.16733708769107\n"
          ]
        }
      ]
    },
    {
      "cell_type": "code",
      "source": [
        "#Fog Index\n",
        "fog_index=0.4*(average_sentence_length+percentage_of_complex_words)\n",
        "print(\"Fog Index = \",fog_index)\n",
        "\n",
        "#Average Number of Words Per Sentence = the total number of words / the total number of sentences\n",
        "average_number_of_words_per_sentence = word_count/sentence_count\n",
        "print(\"Average Number of Words Per Sentence = \",average_number_of_words_per_sentence )\n",
        "\n",
        "print(\"Complex Word Count = \",complex_word_count)\n",
        "output.loc[rnum,'FOG INDEX']=fog_index\n",
        "output.loc[rnum,'AVG NUMBER OF WORDS PER SENTENCE']=average_number_of_words_per_sentence\n",
        "output.loc[rnum,'COMPLEX WORD COUNT']=complex_word_count"
      ],
      "metadata": {
        "colab": {
          "base_uri": "https://localhost:8080/"
        },
        "id": "1fniuuvUtlIa",
        "outputId": "1e81d51a-b568-4546-e6bc-b6dc7c859e21"
      },
      "execution_count": 49,
      "outputs": [
        {
          "output_type": "stream",
          "name": "stdout",
          "text": [
            "Fog Index =  6.261934835076429\n",
            "Average Number of Words Per Sentence =  15.5375\n",
            "Complex Word Count =  208\n"
          ]
        }
      ]
    },
    {
      "cell_type": "code",
      "source": [
        "#removing puctuations\n",
        "\n",
        "import nltk\n",
        "from nltk.corpus import stopwords\n",
        "from nltk.tokenize import word_tokenize\n",
        "\n",
        "nltk.download('stopwords')\n",
        "nltk.download('punkt')\n",
        "\n",
        "\n",
        "# Tokenize the text into words\n",
        "words = word_tokenize(text_content)\n",
        "\n",
        "punctuation = ['?','!',',','.',':','-']\n",
        "\n",
        "filtered_words=[word for word in words if word.lower() not in punctuation]\n",
        "nopuctuatons_text=' '.join(filtered_words)\n",
        "original_text=' '.join(words)\n",
        "\n",
        "print(\"Original text : \",original_text)\n",
        "print(\"Data after removing puctuations:\", nopuctuatons_text)\n",
        "\n",
        "\n",
        "#Removing stopwords\n",
        "stop_words=set(stopwords.words('english'))\n",
        "\n",
        "cleaned_text=[word for word in filtered_words if word.lower() not in stop_words]\n",
        "\n",
        "#counting no of words in cleaned text\n",
        "count_cleaneddata=0\n",
        "count_cleaneddata = len(cleaned_text)\n",
        "\n",
        "print(\"no of words in clenaed data = \",count_cleaneddata)\n",
        "\n",
        "cleaned_text=' '.join(cleaned_text)\n",
        "uncleaned_text= nopuctuatons_text\n",
        "print(\"................................................................\")\n",
        "print(\" \")\n",
        "\n",
        "print(\"text after removing stopwords :\", cleaned_text)\n",
        "print(\"................................................................\")\n",
        "print(\" \")\n",
        "\n",
        "output.loc[rnum,'WORD COUNT']=count_cleaneddata"
      ],
      "metadata": {
        "colab": {
          "base_uri": "https://localhost:8080/"
        },
        "id": "D-7x4HbgvLv4",
        "outputId": "d011eb4e-23f1-4ca6-c593-dd464cd03ab7"
      },
      "execution_count": 50,
      "outputs": [
        {
          "output_type": "stream",
          "name": "stdout",
          "text": [
            "Original text :  Rising IT cities and its impact on the economy environment infrastructure and city life by the year 2040 We have seen a huge development and dependence of people on technology in recent years We have also seen the development of AI and ChatGPT in recent years So it is a normal thing that we will become fully dependent on technology by 2040 Information technology will be a major power for all the developing nations As a member of a developing nation India is rapidly growing its IT base It has also grown some IT cities which will be the major control centres for Information technology by 2040 Rising IT cities Noida Noida in Uttar Pradesh near New Delhi is an emerging IT sector now Many large companies like Google Microsoft IBM Infosys and others have set up their companies here Noida has a market base of billions of dollars and is doing a great job of boosting the national economy The establishment of so many software companies has made Noida an information technology hub Gurgaon Gurgaon in Haryana is also an emerging IT hub Many large companies like Google Microsoft IBM Infosys and others have set up their companies here Gurgaon has a market base of billions of dollars and is doing a great job of boosting the national economy Bengaluru Bengaluru is called as the IT hub of India It is also a smart city Many large companies like Google Microsoft IBM Infosys and others have set up their companies here Bengaluru has a market base of billions of dollars and is doing a great job of boosting the national economy Kolkata Kolkata in West Bengal is an emerging major IT hub The new Kolkata i.e Saltlake Sector 5 New town Rajarhat area of Kolkata is a major IT hub The government is giving the software companies land at almost free of cost to set up the companies there Many large companies like Google Microsoft IBM Infosys and others have set up their companies here Kolkata has a market base of billions of dollars and is doing a great job of boosting the national economy Impact on Economy There is a huge impact of the rising IT cities on our economy Some of the effects are- Demand The rising IT cities will greatly help to boost our economy These will create a huge demand for raw materials The products when ready will be a huge demand for the people too Supply -– Supply means the fulfilment of demand In a large and highly populous country like India there is always a demand for finished products If more IT cities do not develop the companies can not fulfil the needs and desires of the people of a populous country like India As IT cities develop more IT companies will come which will supply more and more finished IT products to our people Market A market is a place where different economic agents like buyers and sellers interact with one another In a populous country like India there is a huge market As IT cities will grow more and more IT companies will come from across the world and more will the competition in the market increase This will help consumers as they will get more and more differentiated products and the market will also run smoothly A competitive market is always good and healthy We can safely assume that our oligopoly market will surely tend to reach a perfectly competitive market by the year 2040 Revenue As the market increases more revenue will be generated Now at present the IT revenue of India is 245 million dollars 19 million dollars more than the financial year 2022 If IT cities grow then more companies will invest which leads to an increase in the IT market which in turn generates more revenue in India We can expect that the IT revenue of India will cross or nearly tend to reach 10 billion dollars by 2040 Impact on Environment The rising IT cities will create a huge impact on the environment the maximum of which will be harmful effects The impact of rising IT cities on the environment is- Deforestation There will be cutting of trees in huge numbers to make the building of the IT companies which will cause great harm to the environment The cutting of trees on a large scale will also cause mass degradation of forests More carbon footprint The IT companies will generate more carbon footprint in the atmosphere South Asian countries including India are known for their lower carbon footprint But if the IT sector grows this way then we will also be at the same pace of generation of carbon footprint by 2040 Death of birds The cell phone and mobile towers by the telecom companies caused the death of birds which caused a great imbalance in the ecosystem The number of sparrows has been reduced due to this phenomenon If this goes on we can see the extinction of many bird species by 2040 Impact on infrastructure There are many contributions of the IT cities on infrastructure They are- Transportation The rising IT cities need an excellent transport system for the supply of raw materials and delivery of the finished products into the market So the transportation system develops in that area So we have an excellent transport system by 2040 Need for a public transport system There is a need for a public transport system in the IT cities As the IT cities are a source of employment and a huge population reside in these areas there is an adequate need for public transport systems like buses taxis etc We hope that it will be improved by 2040 Water supply As a huge number of people reside in the IT cities there is a need for adequate water supply to fulfil the needs of people as well as for industries This will help us to find many new methods of water supply and conservation by 2040 Electricity Electric supply is the lifeline of the sector Without an electric supply no machines will run and not even the IT cities will flourish If the IT cities flourish this way we going to have an excellent electric supply by 2040 Healthcare As a large number of people reside in IT cities there is a need for proper health infrastructure and healthcare facilities for the people So with the growth of IT cities our healthcare system will also improve by 2040 Education Education is the primary key or core of any nation There must be proper education and training centres in those IT cities to fulfil the people ’ s demands So with the growth of IT cities the education system will also develop by 2040 Our education is also going to be skill-oriented Impact on city life With the growth of IT cities more people will get jobs and will earn more So the purchasing power of the people will increase People will lead a better lifestyle They will buy things of good brand value The tastes and preferences of people will also change The human development index is going to increase People will buy good quality food and good quality cars So the food automobile and many other industries are going to increase So there will be a huge impact on city life by 2040 Blackcoffer Insights 47 Arka Mukhopadhyay West Bengal University Of Animal And Fishery Sciences\n",
            "Data after removing puctuations: Rising IT cities and its impact on the economy environment infrastructure and city life by the year 2040 We have seen a huge development and dependence of people on technology in recent years We have also seen the development of AI and ChatGPT in recent years So it is a normal thing that we will become fully dependent on technology by 2040 Information technology will be a major power for all the developing nations As a member of a developing nation India is rapidly growing its IT base It has also grown some IT cities which will be the major control centres for Information technology by 2040 Rising IT cities Noida Noida in Uttar Pradesh near New Delhi is an emerging IT sector now Many large companies like Google Microsoft IBM Infosys and others have set up their companies here Noida has a market base of billions of dollars and is doing a great job of boosting the national economy The establishment of so many software companies has made Noida an information technology hub Gurgaon Gurgaon in Haryana is also an emerging IT hub Many large companies like Google Microsoft IBM Infosys and others have set up their companies here Gurgaon has a market base of billions of dollars and is doing a great job of boosting the national economy Bengaluru Bengaluru is called as the IT hub of India It is also a smart city Many large companies like Google Microsoft IBM Infosys and others have set up their companies here Bengaluru has a market base of billions of dollars and is doing a great job of boosting the national economy Kolkata Kolkata in West Bengal is an emerging major IT hub The new Kolkata i.e Saltlake Sector 5 New town Rajarhat area of Kolkata is a major IT hub The government is giving the software companies land at almost free of cost to set up the companies there Many large companies like Google Microsoft IBM Infosys and others have set up their companies here Kolkata has a market base of billions of dollars and is doing a great job of boosting the national economy Impact on Economy There is a huge impact of the rising IT cities on our economy Some of the effects are- Demand The rising IT cities will greatly help to boost our economy These will create a huge demand for raw materials The products when ready will be a huge demand for the people too Supply -– Supply means the fulfilment of demand In a large and highly populous country like India there is always a demand for finished products If more IT cities do not develop the companies can not fulfil the needs and desires of the people of a populous country like India As IT cities develop more IT companies will come which will supply more and more finished IT products to our people Market A market is a place where different economic agents like buyers and sellers interact with one another In a populous country like India there is a huge market As IT cities will grow more and more IT companies will come from across the world and more will the competition in the market increase This will help consumers as they will get more and more differentiated products and the market will also run smoothly A competitive market is always good and healthy We can safely assume that our oligopoly market will surely tend to reach a perfectly competitive market by the year 2040 Revenue As the market increases more revenue will be generated Now at present the IT revenue of India is 245 million dollars 19 million dollars more than the financial year 2022 If IT cities grow then more companies will invest which leads to an increase in the IT market which in turn generates more revenue in India We can expect that the IT revenue of India will cross or nearly tend to reach 10 billion dollars by 2040 Impact on Environment The rising IT cities will create a huge impact on the environment the maximum of which will be harmful effects The impact of rising IT cities on the environment is- Deforestation There will be cutting of trees in huge numbers to make the building of the IT companies which will cause great harm to the environment The cutting of trees on a large scale will also cause mass degradation of forests More carbon footprint The IT companies will generate more carbon footprint in the atmosphere South Asian countries including India are known for their lower carbon footprint But if the IT sector grows this way then we will also be at the same pace of generation of carbon footprint by 2040 Death of birds The cell phone and mobile towers by the telecom companies caused the death of birds which caused a great imbalance in the ecosystem The number of sparrows has been reduced due to this phenomenon If this goes on we can see the extinction of many bird species by 2040 Impact on infrastructure There are many contributions of the IT cities on infrastructure They are- Transportation The rising IT cities need an excellent transport system for the supply of raw materials and delivery of the finished products into the market So the transportation system develops in that area So we have an excellent transport system by 2040 Need for a public transport system There is a need for a public transport system in the IT cities As the IT cities are a source of employment and a huge population reside in these areas there is an adequate need for public transport systems like buses taxis etc We hope that it will be improved by 2040 Water supply As a huge number of people reside in the IT cities there is a need for adequate water supply to fulfil the needs of people as well as for industries This will help us to find many new methods of water supply and conservation by 2040 Electricity Electric supply is the lifeline of the sector Without an electric supply no machines will run and not even the IT cities will flourish If the IT cities flourish this way we going to have an excellent electric supply by 2040 Healthcare As a large number of people reside in IT cities there is a need for proper health infrastructure and healthcare facilities for the people So with the growth of IT cities our healthcare system will also improve by 2040 Education Education is the primary key or core of any nation There must be proper education and training centres in those IT cities to fulfil the people ’ s demands So with the growth of IT cities the education system will also develop by 2040 Our education is also going to be skill-oriented Impact on city life With the growth of IT cities more people will get jobs and will earn more So the purchasing power of the people will increase People will lead a better lifestyle They will buy things of good brand value The tastes and preferences of people will also change The human development index is going to increase People will buy good quality food and good quality cars So the food automobile and many other industries are going to increase So there will be a huge impact on city life by 2040 Blackcoffer Insights 47 Arka Mukhopadhyay West Bengal University Of Animal And Fishery Sciences\n",
            "no of words in clenaed data =  657\n",
            "................................................................\n",
            " \n",
            "text after removing stopwords : Rising cities impact economy environment infrastructure city life year 2040 seen huge development dependence people technology recent years also seen development AI ChatGPT recent years normal thing become fully dependent technology 2040 Information technology major power developing nations member developing nation India rapidly growing base also grown cities major control centres Information technology 2040 Rising cities Noida Noida Uttar Pradesh near New Delhi emerging sector Many large companies like Google Microsoft IBM Infosys others set companies Noida market base billions dollars great job boosting national economy establishment many software companies made Noida information technology hub Gurgaon Gurgaon Haryana also emerging hub Many large companies like Google Microsoft IBM Infosys others set companies Gurgaon market base billions dollars great job boosting national economy Bengaluru Bengaluru called hub India also smart city Many large companies like Google Microsoft IBM Infosys others set companies Bengaluru market base billions dollars great job boosting national economy Kolkata Kolkata West Bengal emerging major hub new Kolkata i.e Saltlake Sector 5 New town Rajarhat area Kolkata major hub government giving software companies land almost free cost set companies Many large companies like Google Microsoft IBM Infosys others set companies Kolkata market base billions dollars great job boosting national economy Impact Economy huge impact rising cities economy effects are- Demand rising cities greatly help boost economy create huge demand raw materials products ready huge demand people Supply -– Supply means fulfilment demand large highly populous country like India always demand finished products cities develop companies fulfil needs desires people populous country like India cities develop companies come supply finished products people Market market place different economic agents like buyers sellers interact one another populous country like India huge market cities grow companies come across world competition market increase help consumers get differentiated products market also run smoothly competitive market always good healthy safely assume oligopoly market surely tend reach perfectly competitive market year 2040 Revenue market increases revenue generated present revenue India 245 million dollars 19 million dollars financial year 2022 cities grow companies invest leads increase market turn generates revenue India expect revenue India cross nearly tend reach 10 billion dollars 2040 Impact Environment rising cities create huge impact environment maximum harmful effects impact rising cities environment is- Deforestation cutting trees huge numbers make building companies cause great harm environment cutting trees large scale also cause mass degradation forests carbon footprint companies generate carbon footprint atmosphere South Asian countries including India known lower carbon footprint sector grows way also pace generation carbon footprint 2040 Death birds cell phone mobile towers telecom companies caused death birds caused great imbalance ecosystem number sparrows reduced due phenomenon goes see extinction many bird species 2040 Impact infrastructure many contributions cities infrastructure are- Transportation rising cities need excellent transport system supply raw materials delivery finished products market transportation system develops area excellent transport system 2040 Need public transport system need public transport system cities cities source employment huge population reside areas adequate need public transport systems like buses taxis etc hope improved 2040 Water supply huge number people reside cities need adequate water supply fulfil needs people well industries help us find many new methods water supply conservation 2040 Electricity Electric supply lifeline sector Without electric supply machines run even cities flourish cities flourish way going excellent electric supply 2040 Healthcare large number people reside cities need proper health infrastructure healthcare facilities people growth cities healthcare system also improve 2040 Education Education primary key core nation must proper education training centres cities fulfil people ’ demands growth cities education system also develop 2040 education also going skill-oriented Impact city life growth cities people get jobs earn purchasing power people increase People lead better lifestyle buy things good brand value tastes preferences people also change human development index going increase People buy good quality food good quality cars food automobile many industries going increase huge impact city life 2040 Blackcoffer Insights 47 Arka Mukhopadhyay West Bengal University Animal Fishery Sciences\n",
            "................................................................\n",
            " \n"
          ]
        },
        {
          "output_type": "stream",
          "name": "stderr",
          "text": [
            "[nltk_data] Downloading package stopwords to /root/nltk_data...\n",
            "[nltk_data]   Package stopwords is already up-to-date!\n",
            "[nltk_data] Downloading package punkt to /root/nltk_data...\n",
            "[nltk_data]   Package punkt is already up-to-date!\n"
          ]
        }
      ]
    },
    {
      "cell_type": "markdown",
      "source": [
        "**Syllabel count per word**"
      ],
      "metadata": {
        "id": "JWZct8I7xihz"
      }
    },
    {
      "cell_type": "code",
      "source": [
        "#Syllabel count per word\n",
        "word_with_syllabel=0\n",
        "cleaned_data = cleaned_text.split()\n",
        "vowel=['a','e','i','o','u','A','E','I','O','U']\n",
        "syllabel =[]\n",
        "for i in cleaned_data :\n",
        "  syllable_count=0\n",
        "  if i.endswith(\"es\")or i.endswith(\"ed\"):\n",
        "    continue\n",
        "  else :\n",
        "    #checking how many vowels  in a word and incrementing the syllable count\n",
        "    for j in i:\n",
        "      if j in vowel:\n",
        "        syllable_count += 1\n",
        "    word_with_syllabel +=1\n",
        "    syllable_count_per_word=i+\"-\"+ str(syllable_count)\n",
        "    syllabel.append(syllable_count_per_word)\n",
        "print(syllabel)\n",
        "print('word_with_syllabel = ',word_with_syllabel)\n",
        "\n",
        "output.loc[rnum,'SYLLABLE PER WORD']=word_with_syllabel\n",
        "\n",
        "\n",
        "\n"
      ],
      "metadata": {
        "id": "LdSdB0k55hHa",
        "colab": {
          "base_uri": "https://localhost:8080/"
        },
        "outputId": "5555bc25-1e8f-473a-9af3-07793b72a7bd"
      },
      "execution_count": 51,
      "outputs": [
        {
          "output_type": "stream",
          "name": "stdout",
          "text": [
            "['Rising-2', 'impact-2', 'economy-3', 'environment-4', 'infrastructure-5', 'city-1', 'life-2', 'year-2', '2040-0', 'seen-2', 'huge-2', 'development-4', 'dependence-4', 'people-3', 'technology-3', 'recent-2', 'years-2', 'also-2', 'seen-2', 'development-4', 'AI-2', 'ChatGPT-1', 'recent-2', 'years-2', 'normal-2', 'thing-1', 'become-3', 'fully-1', 'dependent-3', 'technology-3', '2040-0', 'Information-5', 'technology-3', 'major-2', 'power-2', 'developing-4', 'nations-3', 'member-2', 'developing-4', 'nation-3', 'India-3', 'rapidly-2', 'growing-2', 'base-2', 'also-2', 'grown-1', 'major-2', 'control-2', 'Information-5', 'technology-3', '2040-0', 'Rising-2', 'Noida-3', 'Noida-3', 'Uttar-2', 'Pradesh-2', 'near-2', 'New-1', 'Delhi-2', 'emerging-3', 'sector-2', 'Many-1', 'large-2', 'like-2', 'Google-3', 'Microsoft-3', 'IBM-1', 'Infosys-2', 'others-2', 'set-1', 'Noida-3', 'market-2', 'base-2', 'billions-3', 'dollars-2', 'great-2', 'job-1', 'boosting-3', 'national-4', 'economy-3', 'establishment-4', 'many-1', 'software-3', 'made-2', 'Noida-3', 'information-5', 'technology-3', 'hub-1', 'Gurgaon-3', 'Gurgaon-3', 'Haryana-3', 'also-2', 'emerging-3', 'hub-1', 'Many-1', 'large-2', 'like-2', 'Google-3', 'Microsoft-3', 'IBM-1', 'Infosys-2', 'others-2', 'set-1', 'Gurgaon-3', 'market-2', 'base-2', 'billions-3', 'dollars-2', 'great-2', 'job-1', 'boosting-3', 'national-4', 'economy-3', 'Bengaluru-4', 'Bengaluru-4', 'hub-1', 'India-3', 'also-2', 'smart-1', 'city-1', 'Many-1', 'large-2', 'like-2', 'Google-3', 'Microsoft-3', 'IBM-1', 'Infosys-2', 'others-2', 'set-1', 'Bengaluru-4', 'market-2', 'base-2', 'billions-3', 'dollars-2', 'great-2', 'job-1', 'boosting-3', 'national-4', 'economy-3', 'Kolkata-3', 'Kolkata-3', 'West-1', 'Bengal-2', 'emerging-3', 'major-2', 'hub-1', 'new-1', 'Kolkata-3', 'i.e-2', 'Saltlake-3', 'Sector-2', '5-0', 'New-1', 'town-1', 'Rajarhat-3', 'area-3', 'Kolkata-3', 'major-2', 'hub-1', 'government-3', 'giving-2', 'software-3', 'land-1', 'almost-2', 'free-2', 'cost-1', 'set-1', 'Many-1', 'large-2', 'like-2', 'Google-3', 'Microsoft-3', 'IBM-1', 'Infosys-2', 'others-2', 'set-1', 'Kolkata-3', 'market-2', 'base-2', 'billions-3', 'dollars-2', 'great-2', 'job-1', 'boosting-3', 'national-4', 'economy-3', 'Impact-2', 'Economy-3', 'huge-2', 'impact-2', 'rising-2', 'economy-3', 'effects-2', 'are--2', 'Demand-2', 'rising-2', 'greatly-2', 'help-1', 'boost-2', 'economy-3', 'create-3', 'huge-2', 'demand-2', 'raw-1', 'materials-4', 'products-2', 'ready-2', 'huge-2', 'demand-2', 'people-3', 'Supply-1', '-–-0', 'Supply-1', 'means-2', 'fulfilment-3', 'demand-2', 'large-2', 'highly-1', 'populous-4', 'country-2', 'like-2', 'India-3', 'always-2', 'demand-2', 'products-2', 'develop-3', 'fulfil-2', 'needs-2', 'people-3', 'populous-4', 'country-2', 'like-2', 'India-3', 'develop-3', 'come-2', 'supply-1', 'products-2', 'people-3', 'Market-2', 'market-2', 'place-2', 'different-3', 'economic-4', 'agents-2', 'like-2', 'buyers-2', 'sellers-2', 'interact-3', 'one-2', 'another-3', 'populous-4', 'country-2', 'like-2', 'India-3', 'huge-2', 'market-2', 'grow-1', 'come-2', 'across-2', 'world-1', 'competition-5', 'market-2', 'increase-4', 'help-1', 'consumers-3', 'get-1', 'products-2', 'market-2', 'also-2', 'run-1', 'smoothly-2', 'competitive-5', 'market-2', 'always-2', 'good-2', 'healthy-2', 'safely-2', 'assume-3', 'oligopoly-4', 'market-2', 'surely-2', 'tend-1', 'reach-2', 'perfectly-2', 'competitive-5', 'market-2', 'year-2', '2040-0', 'Revenue-4', 'market-2', 'revenue-4', 'present-2', 'revenue-4', 'India-3', '245-0', 'million-3', 'dollars-2', '19-0', 'million-3', 'dollars-2', 'financial-4', 'year-2', '2022-0', 'grow-1', 'invest-2', 'leads-2', 'increase-4', 'market-2', 'turn-1', 'revenue-4', 'India-3', 'expect-2', 'revenue-4', 'India-3', 'cross-1', 'nearly-2', 'tend-1', 'reach-2', '10-0', 'billion-3', 'dollars-2', '2040-0', 'Impact-2', 'Environment-4', 'rising-2', 'create-3', 'huge-2', 'impact-2', 'environment-4', 'maximum-3', 'harmful-2', 'effects-2', 'impact-2', 'rising-2', 'environment-4', 'is--1', 'Deforestation-6', 'cutting-2', 'huge-2', 'numbers-2', 'make-2', 'building-3', 'cause-3', 'great-2', 'harm-1', 'environment-4', 'cutting-2', 'large-2', 'scale-2', 'also-2', 'cause-3', 'mass-1', 'degradation-5', 'forests-2', 'carbon-2', 'footprint-3', 'generate-4', 'carbon-2', 'footprint-3', 'atmosphere-4', 'South-2', 'Asian-3', 'including-3', 'India-3', 'known-1', 'lower-2', 'carbon-2', 'footprint-3', 'sector-2', 'grows-1', 'way-1', 'also-2', 'pace-2', 'generation-5', 'carbon-2', 'footprint-3', '2040-0', 'Death-2', 'birds-1', 'cell-1', 'phone-2', 'mobile-3', 'towers-2', 'telecom-3', 'death-2', 'birds-1', 'great-2', 'imbalance-4', 'ecosystem-3', 'number-2', 'sparrows-2', 'due-2', 'phenomenon-4', 'see-2', 'extinction-4', 'many-1', 'bird-1', '2040-0', 'Impact-2', 'infrastructure-5', 'many-1', 'contributions-5', 'infrastructure-5', 'are--2', 'Transportation-5', 'rising-2', 'excellent-3', 'transport-2', 'system-1', 'supply-1', 'raw-1', 'materials-4', 'delivery-3', 'products-2', 'market-2', 'transportation-5', 'system-1', 'develops-3', 'area-3', 'excellent-3', 'transport-2', 'system-1', '2040-0', 'public-2', 'transport-2', 'system-1', 'public-2', 'transport-2', 'system-1', 'source-3', 'employment-3', 'huge-2', 'population-5', 'reside-3', 'areas-3', 'adequate-5', 'public-2', 'transport-2', 'systems-1', 'like-2', 'taxis-2', 'etc-1', 'hope-2', '2040-0', 'Water-2', 'supply-1', 'huge-2', 'number-2', 'people-3', 'reside-3', 'adequate-5', 'water-2', 'supply-1', 'fulfil-2', 'needs-2', 'people-3', 'well-1', 'help-1', 'us-1', 'find-1', 'many-1', 'new-1', 'methods-2', 'water-2', 'supply-1', 'conservation-5', '2040-0', 'Electricity-4', 'Electric-3', 'supply-1', 'lifeline-4', 'sector-2', 'Without-3', 'electric-3', 'supply-1', 'run-1', 'even-2', 'flourish-3', 'flourish-3', 'way-1', 'going-2', 'excellent-3', 'electric-3', 'supply-1', '2040-0', 'Healthcare-4', 'large-2', 'number-2', 'people-3', 'reside-3', 'proper-2', 'health-2', 'infrastructure-5', 'healthcare-4', 'people-3', 'growth-1', 'healthcare-4', 'system-1', 'also-2', 'improve-3', '2040-0', 'Education-5', 'Education-5', 'primary-2', 'key-1', 'core-2', 'nation-3', 'must-1', 'proper-2', 'education-5', 'training-3', 'fulfil-2', 'people-3', '’-0', 'demands-2', 'growth-1', 'education-5', 'system-1', 'also-2', 'develop-3', '2040-0', 'education-5', 'also-2', 'going-2', 'Impact-2', 'city-1', 'life-2', 'growth-1', 'people-3', 'get-1', 'jobs-1', 'earn-2', 'purchasing-3', 'power-2', 'people-3', 'increase-4', 'People-3', 'lead-2', 'better-2', 'lifestyle-3', 'buy-1', 'things-1', 'good-2', 'brand-1', 'value-3', 'people-3', 'also-2', 'change-2', 'human-2', 'development-4', 'index-2', 'going-2', 'increase-4', 'People-3', 'buy-1', 'good-2', 'quality-3', 'food-2', 'good-2', 'quality-3', 'cars-1', 'food-2', 'automobile-6', 'many-1', 'going-2', 'increase-4', 'huge-2', 'impact-2', 'city-1', 'life-2', '2040-0', 'Blackcoffer-3', 'Insights-2', '47-0', 'Arka-2', 'Mukhopadhyay-4', 'West-1', 'Bengal-2', 'University-4', 'Animal-3', 'Fishery-2']\n",
            "word_with_syllabel =  581\n"
          ]
        }
      ]
    },
    {
      "cell_type": "code",
      "source": [
        "#personal Pronouns in uncleaned text\n",
        "\n",
        "import re\n",
        "\n",
        "def count_personal_pronouns(text):\n",
        "    # Define a regex pattern for personal pronouns\n",
        "    pronoun_pattern = r'\\b(?:I|we|my|ours|us|We|My|Ours|Us)\\b'\n",
        "\n",
        "    # Use re.findall to find all occurrences of the pattern in the text\n",
        "    pronouns_found = re.findall(pronoun_pattern, text)\n",
        "\n",
        "    # Count the occurrences of each pronoun\n",
        "    pronoun_counts = {pronoun.lower(): pronouns_found.count(pronoun) for pronoun in set(pronouns_found)}\n",
        "\n",
        "    return pronoun_counts\n",
        "\n",
        "\n",
        "result = count_personal_pronouns(text_content)\n",
        "\n",
        "# Print the result\n",
        "print(\"personal Pronouns in uncleaned text = \",result)\n",
        "\n",
        "\n",
        "#personal Pronons in cleaned text\n",
        "\n",
        "def count_personal_pronouns(text):\n",
        "    # Define a regex pattern for personal pronouns\n",
        "    pronoun_pattern = r'\\b(?:I|we|my|ours|us|We|My|Ours|Us)\\b'\n",
        "\n",
        "    # Use re.findall to find all occurrences of the pattern in the text\n",
        "    pronouns_found = re.findall(pronoun_pattern, text)\n",
        "\n",
        "    # Count the occurrences of each pronoun\n",
        "    pronoun_counts = {pronoun.lower(): pronouns_found.count(pronoun) for pronoun in set(pronouns_found)}\n",
        "\n",
        "    return pronoun_counts\n",
        "\n",
        "\n",
        "# Call the function\n",
        "result = count_personal_pronouns(cleaned_text)\n",
        "sum_of_pronouns=sum(result.values())\n",
        "# Print the result\n",
        "print(\"personal Pronons in cleaned text = \",result)\n",
        "print(\"sum of personal Pronons in cleaned text = \",sum_of_pronouns)\n",
        "\n",
        "\n",
        "output.loc[rnum,'PERSONAL PRONOUN']=sum_of_pronouns\n",
        "\n"
      ],
      "metadata": {
        "colab": {
          "base_uri": "https://localhost:8080/"
        },
        "id": "tO_erT82eiLU",
        "outputId": "822072fd-0eaa-4553-95d4-39b5df7a18ab"
      },
      "execution_count": 52,
      "outputs": [
        {
          "output_type": "stream",
          "name": "stdout",
          "text": [
            "personal Pronouns in uncleaned text =  {'us': 1, 'we': 5}\n",
            "personal Pronons in cleaned text =  {'us': 1}\n",
            "sum of personal Pronons in cleaned text =  1\n"
          ]
        }
      ]
    },
    {
      "cell_type": "code",
      "source": [
        "#Sum of the total number of characters in each word/Total number of words\n",
        "character_count=0\n",
        "for i in cleaned_data:\n",
        "  for j in i:\n",
        "    character_count +=1\n",
        "print(\"total no of characters = \",character_count)\n",
        "\n",
        "average_word_length = character_count / word_count\n",
        "print(\"Average word length = \",average_word_length)\n",
        "\n",
        "\n",
        "output.loc[rnum,'AVG WORD LENGTH']=average_word_length"
      ],
      "metadata": {
        "colab": {
          "base_uri": "https://localhost:8080/"
        },
        "id": "4m9LxaF88HwH",
        "outputId": "47a0fd6b-ac6f-4847-d4d4-3760e61b7f2e"
      },
      "execution_count": 53,
      "outputs": [
        {
          "output_type": "stream",
          "name": "stdout",
          "text": [
            "total no of characters =  4111\n",
            "Average word length =  3.3073209975864843\n"
          ]
        }
      ]
    },
    {
      "cell_type": "markdown",
      "source": [
        "# ***Printing the output file***"
      ],
      "metadata": {
        "id": "7YgSVzge323e"
      }
    },
    {
      "cell_type": "code",
      "source": [
        "display(output.head(5))"
      ],
      "metadata": {
        "colab": {
          "base_uri": "https://localhost:8080/",
          "height": 382
        },
        "id": "DI6UOFGN3_xM",
        "outputId": "08f3d020-ba3a-431f-e456-70ee44bfffa2"
      },
      "execution_count": 57,
      "outputs": [
        {
          "output_type": "display_data",
          "data": {
            "text/plain": [
              "            URL_ID                                                URL  \\\n",
              "0  blackassign0001  https://insights.blackcoffer.com/rising-it-cit...   \n",
              "1  blackassign0002  https://insights.blackcoffer.com/rising-it-cit...   \n",
              "2  blackassign0003  https://insights.blackcoffer.com/internet-dema...   \n",
              "3  blackassign0004  https://insights.blackcoffer.com/rise-of-cyber...   \n",
              "4  blackassign0005  https://insights.blackcoffer.com/ott-platform-...   \n",
              "\n",
              "   POSITIVE SCORE  NEGATIVE SCORE  POLARITY SCORE  SUBJECTIVITY SCORE  \\\n",
              "0           535.0           598.0       -0.055605            0.911504   \n",
              "1             NaN             NaN             NaN                 NaN   \n",
              "2             NaN             NaN             NaN                 NaN   \n",
              "3             NaN             NaN             NaN                 NaN   \n",
              "4             NaN             NaN             NaN                 NaN   \n",
              "\n",
              "   AVG SENTENCE LENGTH  PERCENTAGE OF COMPLEX WORDS  FOG INDEX  \\\n",
              "0              15.4875                     0.167337   6.261935   \n",
              "1                  NaN                          NaN        NaN   \n",
              "2                  NaN                          NaN        NaN   \n",
              "3                  NaN                          NaN        NaN   \n",
              "4                  NaN                          NaN        NaN   \n",
              "\n",
              "   AVG NUMBER OF WORDS PER SENTENCE  COMPLEX WORD COUNT  WORD COUNT  \\\n",
              "0                           15.5375               208.0       657.0   \n",
              "1                               NaN                 NaN         NaN   \n",
              "2                               NaN                 NaN         NaN   \n",
              "3                               NaN                 NaN         NaN   \n",
              "4                               NaN                 NaN         NaN   \n",
              "\n",
              "   SYLLABLE PER WORD  PERSONAL PRONOUN  AVG WORD LENGTH  \n",
              "0              581.0               1.0         3.307321  \n",
              "1                NaN               NaN              NaN  \n",
              "2                NaN               NaN              NaN  \n",
              "3                NaN               NaN              NaN  \n",
              "4                NaN               NaN              NaN  "
            ],
            "text/html": [
              "\n",
              "  <div id=\"df-f67f0aa6-1a49-47e8-a8f1-ac5de3b5f522\" class=\"colab-df-container\">\n",
              "    <div>\n",
              "<style scoped>\n",
              "    .dataframe tbody tr th:only-of-type {\n",
              "        vertical-align: middle;\n",
              "    }\n",
              "\n",
              "    .dataframe tbody tr th {\n",
              "        vertical-align: top;\n",
              "    }\n",
              "\n",
              "    .dataframe thead th {\n",
              "        text-align: right;\n",
              "    }\n",
              "</style>\n",
              "<table border=\"1\" class=\"dataframe\">\n",
              "  <thead>\n",
              "    <tr style=\"text-align: right;\">\n",
              "      <th></th>\n",
              "      <th>URL_ID</th>\n",
              "      <th>URL</th>\n",
              "      <th>POSITIVE SCORE</th>\n",
              "      <th>NEGATIVE SCORE</th>\n",
              "      <th>POLARITY SCORE</th>\n",
              "      <th>SUBJECTIVITY SCORE</th>\n",
              "      <th>AVG SENTENCE LENGTH</th>\n",
              "      <th>PERCENTAGE OF COMPLEX WORDS</th>\n",
              "      <th>FOG INDEX</th>\n",
              "      <th>AVG NUMBER OF WORDS PER SENTENCE</th>\n",
              "      <th>COMPLEX WORD COUNT</th>\n",
              "      <th>WORD COUNT</th>\n",
              "      <th>SYLLABLE PER WORD</th>\n",
              "      <th>PERSONAL PRONOUN</th>\n",
              "      <th>AVG WORD LENGTH</th>\n",
              "    </tr>\n",
              "  </thead>\n",
              "  <tbody>\n",
              "    <tr>\n",
              "      <th>0</th>\n",
              "      <td>blackassign0001</td>\n",
              "      <td>https://insights.blackcoffer.com/rising-it-cit...</td>\n",
              "      <td>535.0</td>\n",
              "      <td>598.0</td>\n",
              "      <td>-0.055605</td>\n",
              "      <td>0.911504</td>\n",
              "      <td>15.4875</td>\n",
              "      <td>0.167337</td>\n",
              "      <td>6.261935</td>\n",
              "      <td>15.5375</td>\n",
              "      <td>208.0</td>\n",
              "      <td>657.0</td>\n",
              "      <td>581.0</td>\n",
              "      <td>1.0</td>\n",
              "      <td>3.307321</td>\n",
              "    </tr>\n",
              "    <tr>\n",
              "      <th>1</th>\n",
              "      <td>blackassign0002</td>\n",
              "      <td>https://insights.blackcoffer.com/rising-it-cit...</td>\n",
              "      <td>NaN</td>\n",
              "      <td>NaN</td>\n",
              "      <td>NaN</td>\n",
              "      <td>NaN</td>\n",
              "      <td>NaN</td>\n",
              "      <td>NaN</td>\n",
              "      <td>NaN</td>\n",
              "      <td>NaN</td>\n",
              "      <td>NaN</td>\n",
              "      <td>NaN</td>\n",
              "      <td>NaN</td>\n",
              "      <td>NaN</td>\n",
              "      <td>NaN</td>\n",
              "    </tr>\n",
              "    <tr>\n",
              "      <th>2</th>\n",
              "      <td>blackassign0003</td>\n",
              "      <td>https://insights.blackcoffer.com/internet-dema...</td>\n",
              "      <td>NaN</td>\n",
              "      <td>NaN</td>\n",
              "      <td>NaN</td>\n",
              "      <td>NaN</td>\n",
              "      <td>NaN</td>\n",
              "      <td>NaN</td>\n",
              "      <td>NaN</td>\n",
              "      <td>NaN</td>\n",
              "      <td>NaN</td>\n",
              "      <td>NaN</td>\n",
              "      <td>NaN</td>\n",
              "      <td>NaN</td>\n",
              "      <td>NaN</td>\n",
              "    </tr>\n",
              "    <tr>\n",
              "      <th>3</th>\n",
              "      <td>blackassign0004</td>\n",
              "      <td>https://insights.blackcoffer.com/rise-of-cyber...</td>\n",
              "      <td>NaN</td>\n",
              "      <td>NaN</td>\n",
              "      <td>NaN</td>\n",
              "      <td>NaN</td>\n",
              "      <td>NaN</td>\n",
              "      <td>NaN</td>\n",
              "      <td>NaN</td>\n",
              "      <td>NaN</td>\n",
              "      <td>NaN</td>\n",
              "      <td>NaN</td>\n",
              "      <td>NaN</td>\n",
              "      <td>NaN</td>\n",
              "      <td>NaN</td>\n",
              "    </tr>\n",
              "    <tr>\n",
              "      <th>4</th>\n",
              "      <td>blackassign0005</td>\n",
              "      <td>https://insights.blackcoffer.com/ott-platform-...</td>\n",
              "      <td>NaN</td>\n",
              "      <td>NaN</td>\n",
              "      <td>NaN</td>\n",
              "      <td>NaN</td>\n",
              "      <td>NaN</td>\n",
              "      <td>NaN</td>\n",
              "      <td>NaN</td>\n",
              "      <td>NaN</td>\n",
              "      <td>NaN</td>\n",
              "      <td>NaN</td>\n",
              "      <td>NaN</td>\n",
              "      <td>NaN</td>\n",
              "      <td>NaN</td>\n",
              "    </tr>\n",
              "  </tbody>\n",
              "</table>\n",
              "</div>\n",
              "    <div class=\"colab-df-buttons\">\n",
              "\n",
              "  <div class=\"colab-df-container\">\n",
              "    <button class=\"colab-df-convert\" onclick=\"convertToInteractive('df-f67f0aa6-1a49-47e8-a8f1-ac5de3b5f522')\"\n",
              "            title=\"Convert this dataframe to an interactive table.\"\n",
              "            style=\"display:none;\">\n",
              "\n",
              "  <svg xmlns=\"http://www.w3.org/2000/svg\" height=\"24px\" viewBox=\"0 -960 960 960\">\n",
              "    <path d=\"M120-120v-720h720v720H120Zm60-500h600v-160H180v160Zm220 220h160v-160H400v160Zm0 220h160v-160H400v160ZM180-400h160v-160H180v160Zm440 0h160v-160H620v160ZM180-180h160v-160H180v160Zm440 0h160v-160H620v160Z\"/>\n",
              "  </svg>\n",
              "    </button>\n",
              "\n",
              "  <style>\n",
              "    .colab-df-container {\n",
              "      display:flex;\n",
              "      gap: 12px;\n",
              "    }\n",
              "\n",
              "    .colab-df-convert {\n",
              "      background-color: #E8F0FE;\n",
              "      border: none;\n",
              "      border-radius: 50%;\n",
              "      cursor: pointer;\n",
              "      display: none;\n",
              "      fill: #1967D2;\n",
              "      height: 32px;\n",
              "      padding: 0 0 0 0;\n",
              "      width: 32px;\n",
              "    }\n",
              "\n",
              "    .colab-df-convert:hover {\n",
              "      background-color: #E2EBFA;\n",
              "      box-shadow: 0px 1px 2px rgba(60, 64, 67, 0.3), 0px 1px 3px 1px rgba(60, 64, 67, 0.15);\n",
              "      fill: #174EA6;\n",
              "    }\n",
              "\n",
              "    .colab-df-buttons div {\n",
              "      margin-bottom: 4px;\n",
              "    }\n",
              "\n",
              "    [theme=dark] .colab-df-convert {\n",
              "      background-color: #3B4455;\n",
              "      fill: #D2E3FC;\n",
              "    }\n",
              "\n",
              "    [theme=dark] .colab-df-convert:hover {\n",
              "      background-color: #434B5C;\n",
              "      box-shadow: 0px 1px 3px 1px rgba(0, 0, 0, 0.15);\n",
              "      filter: drop-shadow(0px 1px 2px rgba(0, 0, 0, 0.3));\n",
              "      fill: #FFFFFF;\n",
              "    }\n",
              "  </style>\n",
              "\n",
              "    <script>\n",
              "      const buttonEl =\n",
              "        document.querySelector('#df-f67f0aa6-1a49-47e8-a8f1-ac5de3b5f522 button.colab-df-convert');\n",
              "      buttonEl.style.display =\n",
              "        google.colab.kernel.accessAllowed ? 'block' : 'none';\n",
              "\n",
              "      async function convertToInteractive(key) {\n",
              "        const element = document.querySelector('#df-f67f0aa6-1a49-47e8-a8f1-ac5de3b5f522');\n",
              "        const dataTable =\n",
              "          await google.colab.kernel.invokeFunction('convertToInteractive',\n",
              "                                                    [key], {});\n",
              "        if (!dataTable) return;\n",
              "\n",
              "        const docLinkHtml = 'Like what you see? Visit the ' +\n",
              "          '<a target=\"_blank\" href=https://colab.research.google.com/notebooks/data_table.ipynb>data table notebook</a>'\n",
              "          + ' to learn more about interactive tables.';\n",
              "        element.innerHTML = '';\n",
              "        dataTable['output_type'] = 'display_data';\n",
              "        await google.colab.output.renderOutput(dataTable, element);\n",
              "        const docLink = document.createElement('div');\n",
              "        docLink.innerHTML = docLinkHtml;\n",
              "        element.appendChild(docLink);\n",
              "      }\n",
              "    </script>\n",
              "  </div>\n",
              "\n",
              "\n",
              "<div id=\"df-0e0054e8-ea34-4604-bc3c-051a95afe7ad\">\n",
              "  <button class=\"colab-df-quickchart\" onclick=\"quickchart('df-0e0054e8-ea34-4604-bc3c-051a95afe7ad')\"\n",
              "            title=\"Suggest charts\"\n",
              "            style=\"display:none;\">\n",
              "\n",
              "<svg xmlns=\"http://www.w3.org/2000/svg\" height=\"24px\"viewBox=\"0 0 24 24\"\n",
              "     width=\"24px\">\n",
              "    <g>\n",
              "        <path d=\"M19 3H5c-1.1 0-2 .9-2 2v14c0 1.1.9 2 2 2h14c1.1 0 2-.9 2-2V5c0-1.1-.9-2-2-2zM9 17H7v-7h2v7zm4 0h-2V7h2v10zm4 0h-2v-4h2v4z\"/>\n",
              "    </g>\n",
              "</svg>\n",
              "  </button>\n",
              "\n",
              "<style>\n",
              "  .colab-df-quickchart {\n",
              "      --bg-color: #E8F0FE;\n",
              "      --fill-color: #1967D2;\n",
              "      --hover-bg-color: #E2EBFA;\n",
              "      --hover-fill-color: #174EA6;\n",
              "      --disabled-fill-color: #AAA;\n",
              "      --disabled-bg-color: #DDD;\n",
              "  }\n",
              "\n",
              "  [theme=dark] .colab-df-quickchart {\n",
              "      --bg-color: #3B4455;\n",
              "      --fill-color: #D2E3FC;\n",
              "      --hover-bg-color: #434B5C;\n",
              "      --hover-fill-color: #FFFFFF;\n",
              "      --disabled-bg-color: #3B4455;\n",
              "      --disabled-fill-color: #666;\n",
              "  }\n",
              "\n",
              "  .colab-df-quickchart {\n",
              "    background-color: var(--bg-color);\n",
              "    border: none;\n",
              "    border-radius: 50%;\n",
              "    cursor: pointer;\n",
              "    display: none;\n",
              "    fill: var(--fill-color);\n",
              "    height: 32px;\n",
              "    padding: 0;\n",
              "    width: 32px;\n",
              "  }\n",
              "\n",
              "  .colab-df-quickchart:hover {\n",
              "    background-color: var(--hover-bg-color);\n",
              "    box-shadow: 0 1px 2px rgba(60, 64, 67, 0.3), 0 1px 3px 1px rgba(60, 64, 67, 0.15);\n",
              "    fill: var(--button-hover-fill-color);\n",
              "  }\n",
              "\n",
              "  .colab-df-quickchart-complete:disabled,\n",
              "  .colab-df-quickchart-complete:disabled:hover {\n",
              "    background-color: var(--disabled-bg-color);\n",
              "    fill: var(--disabled-fill-color);\n",
              "    box-shadow: none;\n",
              "  }\n",
              "\n",
              "  .colab-df-spinner {\n",
              "    border: 2px solid var(--fill-color);\n",
              "    border-color: transparent;\n",
              "    border-bottom-color: var(--fill-color);\n",
              "    animation:\n",
              "      spin 1s steps(1) infinite;\n",
              "  }\n",
              "\n",
              "  @keyframes spin {\n",
              "    0% {\n",
              "      border-color: transparent;\n",
              "      border-bottom-color: var(--fill-color);\n",
              "      border-left-color: var(--fill-color);\n",
              "    }\n",
              "    20% {\n",
              "      border-color: transparent;\n",
              "      border-left-color: var(--fill-color);\n",
              "      border-top-color: var(--fill-color);\n",
              "    }\n",
              "    30% {\n",
              "      border-color: transparent;\n",
              "      border-left-color: var(--fill-color);\n",
              "      border-top-color: var(--fill-color);\n",
              "      border-right-color: var(--fill-color);\n",
              "    }\n",
              "    40% {\n",
              "      border-color: transparent;\n",
              "      border-right-color: var(--fill-color);\n",
              "      border-top-color: var(--fill-color);\n",
              "    }\n",
              "    60% {\n",
              "      border-color: transparent;\n",
              "      border-right-color: var(--fill-color);\n",
              "    }\n",
              "    80% {\n",
              "      border-color: transparent;\n",
              "      border-right-color: var(--fill-color);\n",
              "      border-bottom-color: var(--fill-color);\n",
              "    }\n",
              "    90% {\n",
              "      border-color: transparent;\n",
              "      border-bottom-color: var(--fill-color);\n",
              "    }\n",
              "  }\n",
              "</style>\n",
              "\n",
              "  <script>\n",
              "    async function quickchart(key) {\n",
              "      const quickchartButtonEl =\n",
              "        document.querySelector('#' + key + ' button');\n",
              "      quickchartButtonEl.disabled = true;  // To prevent multiple clicks.\n",
              "      quickchartButtonEl.classList.add('colab-df-spinner');\n",
              "      try {\n",
              "        const charts = await google.colab.kernel.invokeFunction(\n",
              "            'suggestCharts', [key], {});\n",
              "      } catch (error) {\n",
              "        console.error('Error during call to suggestCharts:', error);\n",
              "      }\n",
              "      quickchartButtonEl.classList.remove('colab-df-spinner');\n",
              "      quickchartButtonEl.classList.add('colab-df-quickchart-complete');\n",
              "    }\n",
              "    (() => {\n",
              "      let quickchartButtonEl =\n",
              "        document.querySelector('#df-0e0054e8-ea34-4604-bc3c-051a95afe7ad button');\n",
              "      quickchartButtonEl.style.display =\n",
              "        google.colab.kernel.accessAllowed ? 'block' : 'none';\n",
              "    })();\n",
              "  </script>\n",
              "</div>\n",
              "\n",
              "    </div>\n",
              "  </div>\n"
            ],
            "application/vnd.google.colaboratory.intrinsic+json": {
              "type": "dataframe",
              "summary": "{\n  \"name\": \"display(output\",\n  \"rows\": 5,\n  \"fields\": [\n    {\n      \"column\": \"URL_ID\",\n      \"properties\": {\n        \"dtype\": \"string\",\n        \"num_unique_values\": 5,\n        \"samples\": [\n          \"blackassign0002\",\n          \"blackassign0005\",\n          \"blackassign0003\"\n        ],\n        \"semantic_type\": \"\",\n        \"description\": \"\"\n      }\n    },\n    {\n      \"column\": \"URL\",\n      \"properties\": {\n        \"dtype\": \"string\",\n        \"num_unique_values\": 5,\n        \"samples\": [\n          \"https://insights.blackcoffer.com/rising-it-cities-and-their-impact-on-the-economy-environment-infrastructure-and-city-life-in-future/\",\n          \"https://insights.blackcoffer.com/ott-platform-and-its-impact-on-the-entertainment-industry-in-future/\",\n          \"https://insights.blackcoffer.com/internet-demands-evolution-communication-impact-and-2035s-alternative-pathways/\"\n        ],\n        \"semantic_type\": \"\",\n        \"description\": \"\"\n      }\n    },\n    {\n      \"column\": \"POSITIVE SCORE\",\n      \"properties\": {\n        \"dtype\": \"number\",\n        \"std\": null,\n        \"min\": 535.0,\n        \"max\": 535.0,\n        \"num_unique_values\": 1,\n        \"samples\": [\n          535.0\n        ],\n        \"semantic_type\": \"\",\n        \"description\": \"\"\n      }\n    },\n    {\n      \"column\": \"NEGATIVE SCORE\",\n      \"properties\": {\n        \"dtype\": \"number\",\n        \"std\": null,\n        \"min\": 598.0,\n        \"max\": 598.0,\n        \"num_unique_values\": 1,\n        \"samples\": [\n          598.0\n        ],\n        \"semantic_type\": \"\",\n        \"description\": \"\"\n      }\n    },\n    {\n      \"column\": \"POLARITY SCORE\",\n      \"properties\": {\n        \"dtype\": \"number\",\n        \"std\": null,\n        \"min\": -0.0556045895360947,\n        \"max\": -0.0556045895360947,\n        \"num_unique_values\": 1,\n        \"samples\": [\n          -0.0556045895360947\n        ],\n        \"semantic_type\": \"\",\n        \"description\": \"\"\n      }\n    },\n    {\n      \"column\": \"SUBJECTIVITY SCORE\",\n      \"properties\": {\n        \"dtype\": \"number\",\n        \"std\": null,\n        \"min\": 0.911504424045451,\n        \"max\": 0.911504424045451,\n        \"num_unique_values\": 1,\n        \"samples\": [\n          0.911504424045451\n        ],\n        \"semantic_type\": \"\",\n        \"description\": \"\"\n      }\n    },\n    {\n      \"column\": \"AVG SENTENCE LENGTH\",\n      \"properties\": {\n        \"dtype\": \"number\",\n        \"std\": null,\n        \"min\": 15.4875,\n        \"max\": 15.4875,\n        \"num_unique_values\": 1,\n        \"samples\": [\n          15.4875\n        ],\n        \"semantic_type\": \"\",\n        \"description\": \"\"\n      }\n    },\n    {\n      \"column\": \"PERCENTAGE OF COMPLEX WORDS\",\n      \"properties\": {\n        \"dtype\": \"number\",\n        \"std\": null,\n        \"min\": 0.16733708769107,\n        \"max\": 0.16733708769107,\n        \"num_unique_values\": 1,\n        \"samples\": [\n          0.16733708769107\n        ],\n        \"semantic_type\": \"\",\n        \"description\": \"\"\n      }\n    },\n    {\n      \"column\": \"FOG INDEX\",\n      \"properties\": {\n        \"dtype\": \"number\",\n        \"std\": null,\n        \"min\": 6.261934835076429,\n        \"max\": 6.261934835076429,\n        \"num_unique_values\": 1,\n        \"samples\": [\n          6.261934835076429\n        ],\n        \"semantic_type\": \"\",\n        \"description\": \"\"\n      }\n    },\n    {\n      \"column\": \"AVG NUMBER OF WORDS PER SENTENCE\",\n      \"properties\": {\n        \"dtype\": \"number\",\n        \"std\": null,\n        \"min\": 15.5375,\n        \"max\": 15.5375,\n        \"num_unique_values\": 1,\n        \"samples\": [\n          15.5375\n        ],\n        \"semantic_type\": \"\",\n        \"description\": \"\"\n      }\n    },\n    {\n      \"column\": \"COMPLEX WORD COUNT\",\n      \"properties\": {\n        \"dtype\": \"number\",\n        \"std\": null,\n        \"min\": 208.0,\n        \"max\": 208.0,\n        \"num_unique_values\": 1,\n        \"samples\": [\n          208.0\n        ],\n        \"semantic_type\": \"\",\n        \"description\": \"\"\n      }\n    },\n    {\n      \"column\": \"WORD COUNT\",\n      \"properties\": {\n        \"dtype\": \"number\",\n        \"std\": null,\n        \"min\": 657.0,\n        \"max\": 657.0,\n        \"num_unique_values\": 1,\n        \"samples\": [\n          657.0\n        ],\n        \"semantic_type\": \"\",\n        \"description\": \"\"\n      }\n    },\n    {\n      \"column\": \"SYLLABLE PER WORD\",\n      \"properties\": {\n        \"dtype\": \"number\",\n        \"std\": null,\n        \"min\": 581.0,\n        \"max\": 581.0,\n        \"num_unique_values\": 1,\n        \"samples\": [\n          581.0\n        ],\n        \"semantic_type\": \"\",\n        \"description\": \"\"\n      }\n    },\n    {\n      \"column\": \"PERSONAL PRONOUN\",\n      \"properties\": {\n        \"dtype\": \"number\",\n        \"std\": null,\n        \"min\": 1.0,\n        \"max\": 1.0,\n        \"num_unique_values\": 1,\n        \"samples\": [\n          1.0\n        ],\n        \"semantic_type\": \"\",\n        \"description\": \"\"\n      }\n    },\n    {\n      \"column\": \"AVG WORD LENGTH\",\n      \"properties\": {\n        \"dtype\": \"number\",\n        \"std\": null,\n        \"min\": 3.3073209975864843,\n        \"max\": 3.3073209975864843,\n        \"num_unique_values\": 1,\n        \"samples\": [\n          3.3073209975864843\n        ],\n        \"semantic_type\": \"\",\n        \"description\": \"\"\n      }\n    }\n  ]\n}"
            }
          },
          "metadata": {}
        }
      ]
    },
    {
      "cell_type": "markdown",
      "source": [
        "**to save the file**"
      ],
      "metadata": {
        "id": "yic2YaEd8Eus"
      }
    },
    {
      "cell_type": "code",
      "source": [
        "output.to_csv(output_file_path, index=False)"
      ],
      "metadata": {
        "id": "EHvlhl478IsT"
      },
      "execution_count": 55,
      "outputs": []
    }
  ]
}